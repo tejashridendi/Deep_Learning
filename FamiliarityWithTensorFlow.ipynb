{
  "nbformat": 4,
  "nbformat_minor": 0,
  "metadata": {
    "colab": {
      "provenance": [],
      "authorship_tag": "ABX9TyPf0HcO1IPMu/uVm9lzKGb5"
    },
    "kernelspec": {
      "name": "python3",
      "display_name": "Python 3"
    },
    "language_info": {
      "name": "python"
    }
  },
  "cells": [
    {
      "cell_type": "code",
      "execution_count": 1,
      "metadata": {
        "id": "O4HrTaUZo4dU"
      },
      "outputs": [],
      "source": [
        "import tensorflow as tf"
      ]
    },
    {
      "cell_type": "code",
      "source": [
        "#create tensor\n",
        "x=tf.random.normal(shape=(2,5),mean=0,stddev=1)\n",
        "print(x)\n",
        "x.shape\n",
        "\n",
        "\n"
      ],
      "metadata": {
        "colab": {
          "base_uri": "https://localhost:8080/"
        },
        "id": "qMu3H9oNpbN0",
        "outputId": "4c91f8b6-c769-4d27-9058-f7cd07b95495"
      },
      "execution_count": 2,
      "outputs": [
        {
          "output_type": "stream",
          "name": "stdout",
          "text": [
            "tf.Tensor(\n",
            "[[-1.2908385   0.09420709 -0.07000785 -1.6368151  -1.083136  ]\n",
            " [ 0.41910577  0.34770674  0.87899256  0.16626717  0.4915189 ]], shape=(2, 5), dtype=float32)\n"
          ]
        },
        {
          "output_type": "execute_result",
          "data": {
            "text/plain": [
              "TensorShape([2, 5])"
            ]
          },
          "metadata": {},
          "execution_count": 2
        }
      ]
    },
    {
      "cell_type": "code",
      "source": [
        "x=tf.zeros(shape=(2,5))\n",
        "print(x)\n",
        "x=tf.ones(shape=(2,5))\n",
        "print(x)"
      ],
      "metadata": {
        "colab": {
          "base_uri": "https://localhost:8080/"
        },
        "id": "0NoCIHmop21F",
        "outputId": "de41e8cb-3333-4ed6-d8b7-2b093d8eadf0"
      },
      "execution_count": 3,
      "outputs": [
        {
          "output_type": "stream",
          "name": "stdout",
          "text": [
            "tf.Tensor(\n",
            "[[0. 0. 0. 0. 0.]\n",
            " [0. 0. 0. 0. 0.]], shape=(2, 5), dtype=float32)\n",
            "tf.Tensor(\n",
            "[[1. 1. 1. 1. 1.]\n",
            " [1. 1. 1. 1. 1.]], shape=(2, 5), dtype=float32)\n"
          ]
        }
      ]
    },
    {
      "cell_type": "code",
      "source": [
        "c=tf.Variable(x)\n",
        "c[0,0].assign(10)\n",
        "print(c)"
      ],
      "metadata": {
        "colab": {
          "base_uri": "https://localhost:8080/"
        },
        "id": "DZFeOWlOqUdZ",
        "outputId": "c74c7e30-11ce-4dce-f128-66ddda54254f"
      },
      "execution_count": 6,
      "outputs": [
        {
          "output_type": "stream",
          "name": "stdout",
          "text": [
            "<tf.Variable 'Variable:0' shape=(2, 5) dtype=float32, numpy=\n",
            "array([[10.,  1.,  1.,  1.,  1.],\n",
            "       [ 1.,  1.,  1.,  1.,  1.]], dtype=float32)>\n"
          ]
        }
      ]
    },
    {
      "cell_type": "code",
      "source": [
        "x=tf.Variable(tf.random.normal(shape=(5,4)))\n",
        "print(x)"
      ],
      "metadata": {
        "colab": {
          "base_uri": "https://localhost:8080/"
        },
        "id": "L7f-S_nmq-SB",
        "outputId": "b879cb80-2e71-4ffc-b270-8e361347befa"
      },
      "execution_count": 8,
      "outputs": [
        {
          "output_type": "stream",
          "name": "stdout",
          "text": [
            "<tf.Variable 'Variable:0' shape=(5, 4) dtype=float32, numpy=\n",
            "array([[ 0.8495761 ,  1.3187491 ,  1.834096  , -0.5939701 ],\n",
            "       [ 0.06657314, -1.4044238 ,  0.25165504, -1.01449   ],\n",
            "       [ 0.5790624 ,  0.94896495,  1.1633441 , -0.18566069],\n",
            "       [-2.0826256 , -0.6721943 , -0.65947104, -0.69996303],\n",
            "       [-0.34603807,  0.06467296,  0.00417533,  0.1736899 ]],\n",
            "      dtype=float32)>\n"
          ]
        }
      ]
    },
    {
      "cell_type": "code",
      "source": [
        "print(tf.matmul(c,x))\n",
        "print(tf.square(x))"
      ],
      "metadata": {
        "colab": {
          "base_uri": "https://localhost:8080/"
        },
        "id": "Sevo_PsMrSbO",
        "outputId": "a2c1be25-41d2-478d-f36d-887af3f0a501"
      },
      "execution_count": 9,
      "outputs": [
        {
          "output_type": "stream",
          "name": "stdout",
          "text": [
            "tf.Tensor(\n",
            "[[ 6.7127333  12.124511   19.100662   -7.6661253 ]\n",
            " [-0.9334521   0.25576878  2.5937996  -2.320394  ]], shape=(2, 4), dtype=float32)\n",
            "tf.Tensor(\n",
            "[[7.2177958e-01 1.7390991e+00 3.3639081e+00 3.5280052e-01]\n",
            " [4.4319835e-03 1.9724063e+00 6.3330263e-02 1.0291899e+00]\n",
            " [3.3531326e-01 9.0053451e-01 1.3533696e+00 3.4469891e-02]\n",
            " [4.3373294e+00 4.5184517e-01 4.3490204e-01 4.8994824e-01]\n",
            " [1.1974235e-01 4.1825920e-03 1.7433382e-05 3.0168181e-02]], shape=(5, 4), dtype=float32)\n"
          ]
        }
      ]
    },
    {
      "cell_type": "code",
      "source": [
        "y=x+1\n",
        "print(x*y)"
      ],
      "metadata": {
        "colab": {
          "base_uri": "https://localhost:8080/"
        },
        "id": "ms6U1pTlreFe",
        "outputId": "f72b7326-0c63-4972-a815-828cb7d5c84c"
      },
      "execution_count": 11,
      "outputs": [
        {
          "output_type": "stream",
          "name": "stdout",
          "text": [
            "tf.Tensor(\n",
            "[[ 1.57135570e+00  3.05784798e+00  5.19800377e+00 -2.41169617e-01]\n",
            " [ 7.10051283e-02  5.67982495e-01  3.14985305e-01  1.46999685e-02]\n",
            " [ 9.14375722e-01  1.84949946e+00  2.51671386e+00 -1.51190788e-01]\n",
            " [ 2.25470376e+00 -2.20349118e-01 -2.24568993e-01 -2.10014790e-01]\n",
            " [-2.26295710e-01  6.88555539e-02  4.19276347e-03  2.03858078e-01]], shape=(5, 4), dtype=float32)\n"
          ]
        }
      ]
    },
    {
      "cell_type": "code",
      "source": [
        "def f(x):\n",
        "    return 2*tf.math.log(x)+3\n",
        "print(f(x))\n",
        "\n",
        "with tf.GradientTape() as tape:\n",
        "    y=f(x)\n",
        "    dy_dx=tape.gradient(y,x)\n",
        "print(dy_dx)"
      ],
      "metadata": {
        "colab": {
          "base_uri": "https://localhost:8080/"
        },
        "id": "az0aMKTArsCN",
        "outputId": "60889458-4d9c-4057-d44b-0ecbfca3b5f3"
      },
      "execution_count": 13,
      "outputs": [
        {
          "output_type": "stream",
          "name": "stdout",
          "text": [
            "tf.Tensor(\n",
            "[[ 2.6739645   3.5533671   4.2131033          nan]\n",
            " [-2.418908           nan  0.24060798         nan]\n",
            " [ 1.9073099   2.8952332   3.3025975          nan]\n",
            " [        nan         nan         nan         nan]\n",
            " [        nan -2.4768243  -7.9571238  -0.5009675 ]], shape=(5, 4), dtype=float32)\n",
            "tf.Tensor(\n",
            "[[  2.354115     1.5165888    1.0904555   -3.3671727 ]\n",
            " [ 30.042145    -1.4240716    7.9473867   -1.9714339 ]\n",
            " [  3.4538589    2.1075594    1.7191817  -10.77234   ]\n",
            " [ -0.96032625  -2.9753304   -3.0327334   -2.8572938 ]\n",
            " [ -5.779711    30.924824   479.00406     11.514774  ]], shape=(5, 4), dtype=float32)\n"
          ]
        }
      ]
    }
  ]
}